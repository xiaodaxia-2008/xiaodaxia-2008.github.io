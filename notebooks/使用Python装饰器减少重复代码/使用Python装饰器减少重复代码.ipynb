{
 "cells": [
  {
   "cell_type": "markdown",
   "id": "c8ccbacd-a831-4f65-80b2-34dff4fe5c4d",
   "metadata": {},
   "source": [
    "## python 装饰器介绍\n",
    "\n",
    "python 装饰器是一个很好用的功能，有很多用处，其原理是对输入的函数进行封装，然后返回一个封装后的函数。用户使用同样的名称调用函数，但实际上调用的是封装后的函数。\n",
    "\n",
    "装饰器可以在封装过程中执行一些额外操作，从而拓展实际函数的功能。"
   ]
  },
  {
   "cell_type": "markdown",
   "id": "78c99ba1-4746-403c-8af7-2ee445d1eabf",
   "metadata": {
    "editable": true,
    "slideshow": {
     "slide_type": ""
    },
    "tags": []
   },
   "source": [
    "## 一个简单的例子"
   ]
  },
  {
   "cell_type": "code",
   "execution_count": 1,
   "id": "05a11b23-80f7-4451-a075-396eb2683bf7",
   "metadata": {
    "editable": true,
    "slideshow": {
     "slide_type": ""
    },
    "tags": []
   },
   "outputs": [],
   "source": [
    "# 定义一个装饰器\n",
    "def print_function_name(f):\n",
    "    def _f(*args, **kwarg):\n",
    "        # 在调用实际的 f 之前打印 f 的名字\n",
    "        print(f\"callable name is {f}\")\n",
    "        # 调用 f\n",
    "        f(*args, **kwarg)\n",
    "    return _f    "
   ]
  },
  {
   "cell_type": "markdown",
   "id": "4f27409c-4bdd-4e6c-ba9b-929e6d38a75e",
   "metadata": {},
   "source": [
    "我们再定义一个普通函数："
   ]
  },
  {
   "cell_type": "code",
   "execution_count": 2,
   "id": "026bcf52-0c20-4549-aaab-76f44565d573",
   "metadata": {
    "editable": true,
    "slideshow": {
     "slide_type": ""
    },
    "tags": []
   },
   "outputs": [],
   "source": [
    "def hello(name: str):\n",
    "    print(f\"hello, {name}\")"
   ]
  },
  {
   "cell_type": "markdown",
   "id": "6edb0ab1-eff7-45af-9191-f209ccc1df60",
   "metadata": {},
   "source": [
    "调用这个 `hello` 函数："
   ]
  },
  {
   "cell_type": "code",
   "execution_count": 3,
   "id": "16620f96-174a-4bc9-9388-21276a713df2",
   "metadata": {
    "editable": true,
    "slideshow": {
     "slide_type": ""
    },
    "tags": []
   },
   "outputs": [
    {
     "name": "stdout",
     "output_type": "stream",
     "text": [
      "hello, Zen\n"
     ]
    }
   ],
   "source": [
    "hello(\"Zen\")"
   ]
  },
  {
   "cell_type": "markdown",
   "id": "0cdfc21f-75d7-4ea9-a981-d39a247a3211",
   "metadata": {},
   "source": [
    "结果如我们预期，如果我们再定义一个相同的函数，但是用装饰器进行封装："
   ]
  },
  {
   "cell_type": "code",
   "execution_count": 4,
   "id": "45397906-4d56-41e1-8b69-4783d38f3ca1",
   "metadata": {
    "editable": true,
    "slideshow": {
     "slide_type": ""
    },
    "tags": []
   },
   "outputs": [],
   "source": [
    "@print_function_name\n",
    "def hello2(name: str):\n",
    "    print(f\"hello, {name}\")"
   ]
  },
  {
   "cell_type": "markdown",
   "id": "df1cff82-f497-4ed8-a070-5574188e883b",
   "metadata": {},
   "source": [
    "`hello` 和 `hello2` 两个函数的内容是一样的，我们调用 `hello2` 看看："
   ]
  },
  {
   "cell_type": "code",
   "execution_count": 5,
   "id": "19668ba4-327c-4287-8585-6643f91fbbab",
   "metadata": {
    "editable": true,
    "slideshow": {
     "slide_type": ""
    },
    "tags": []
   },
   "outputs": [
    {
     "name": "stdout",
     "output_type": "stream",
     "text": [
      "callable name is <function hello2 at 0x00000171DA59F600>\n",
      "hello, Zen\n"
     ]
    }
   ],
   "source": [
    "hello2(\"Zen\")"
   ]
  },
  {
   "cell_type": "markdown",
   "id": "487b2fc0-84e2-4bc4-bf93-f68ee0ef7b92",
   "metadata": {},
   "source": [
    "是的，这就是魔法发生的地方，使用同样的函数名，`hello2` 已经不是原始的函数，而是通过装饰器**装饰**起来的函数。"
   ]
  },
  {
   "cell_type": "markdown",
   "id": "f2cae645-1a96-4aa5-bf54-933410263d5c",
   "metadata": {},
   "source": [
    "调用`hello2`的效果可以拆分成下面的步骤："
   ]
  },
  {
   "cell_type": "code",
   "execution_count": 8,
   "id": "b19e7510-3ca9-44d4-b3ec-49404391460f",
   "metadata": {},
   "outputs": [
    {
     "name": "stdout",
     "output_type": "stream",
     "text": [
      "callable name is <function hello at 0x00000171DA34FB00>\n",
      "hello, Zen\n"
     ]
    }
   ],
   "source": [
    "hello3 = print_function_name(hello)\n",
    "hello3(\"Zen\")"
   ]
  },
  {
   "cell_type": "markdown",
   "id": "b2eb15ef-448d-4106-9f94-6a94cc587a05",
   "metadata": {},
   "source": [
    "上面的例子中，`print_function_name` 只是一个简单的装饰器，没有什么实际用处，但是演示了装饰器的基本原理，实际的装饰器函数都会执行更有意义的工作，否则干嘛要多一层嵌套封装呢！"
   ]
  },
  {
   "cell_type": "markdown",
   "id": "de008d60-20df-49ad-8b3e-cf9486cc8f9c",
   "metadata": {},
   "source": [
    "## 什么样的函数可以作为装饰器\n",
    "\n",
    "装饰器函数必须满足两个条件：\n",
    "- 可以接受另外一个函数作为唯一输入参数\n",
    "- 必须返回一个函数对象\n",
    "\n",
    "这种可以接受函数本身作为输入参数的函数，在其他语言中称为**高阶函数**（Higher Order Function）以和普通的函数作为区分。\n"
   ]
  },
  {
   "cell_type": "markdown",
   "id": "8b396bc8-6a58-4755-bcd5-9fe7d7be0ba2",
   "metadata": {},
   "source": [
    "## 装饰器用法\n",
    "\n",
    "### 为函数添加额外参数"
   ]
  },
  {
   "cell_type": "markdown",
   "id": "efc2f69d-d9a1-473f-a118-5cd644219bab",
   "metadata": {},
   "source": [
    "使用装饰器可以为一个函数添加额外的参数，这在一些场合下非常有用。比如我们有一些文件保存的操作，需要每次由用户来选择一下保存路径，选择保存路径这个过程就可以作为装饰器在调用实际函数之前来执行的通用操作。\n",
    "\n",
    "如果使用传统的实现方式，大概如下："
   ]
  },
  {
   "cell_type": "code",
   "execution_count": 10,
   "id": "41595aad-ce0b-452d-8895-1359f262b660",
   "metadata": {},
   "outputs": [],
   "source": [
    "def get_save_path() -> str:\n",
    "    file_path, _ = QFileDialog.getSaveFileName(\n",
    "                self,\n",
    "                \"选择保存文件路径\",\n",
    "                \"\",\n",
    "                \"文本文件 (*.txt);;所有文件 (*)\"\n",
    "            )\n",
    "    return file_path\n",
    "\n",
    "\n",
    "def save_something1(something):\n",
    "    fpath = get_save_path()\n",
    "    if fpath:\n",
    "        print(f\"save {something} to {fpath}\")\n",
    "\n",
    "\n",
    "def save_something2(something):\n",
    "    fpath = get_save_path()\n",
    "    if fpath:\n",
    "        print(f\"save {something} to {fpath}\")"
   ]
  },
  {
   "cell_type": "markdown",
   "id": "e79b3a2d-a93e-4830-8b5a-02cfa6a5c2b4",
   "metadata": {},
   "source": [
    "我们再来看一下装饰器版本的实现："
   ]
  },
  {
   "cell_type": "code",
   "execution_count": 12,
   "id": "feec5fc5-a3a1-41d8-affd-f22f3d5f8397",
   "metadata": {},
   "outputs": [],
   "source": [
    "def get_save_path_decorator(f):\n",
    "    def _f(*args, **kwarg):\n",
    "        file_path, _ = QFileDialog.getSaveFileName(\n",
    "            self,\n",
    "            \"选择保存文件路径\",\n",
    "            \"\",\n",
    "            \"文本文件 (*.txt)\"\n",
    "        )\n",
    "        if file_path:\n",
    "            f(file_path, *args, **kwargs)\n",
    "        else:\n",
    "            print(\"user doesn't select a valid save path\")\n",
    "\n",
    "    return _f\n",
    "\n",
    "@get_save_path_decorator\n",
    "def save_something1(fpath: str, something):\n",
    "    print(f\"save {something} to {fpath}\")\n",
    "\n",
    "@get_save_path_decorator\n",
    "def save_something2(fpath: str, something):\n",
    "    print(f\"save {something} to {fpath}\")        "
   ]
  },
  {
   "cell_type": "markdown",
   "id": "5a045ba9-ef11-4d2b-92b3-7ef0842fff08",
   "metadata": {},
   "source": [
    "使用装饰器，我们定义的 `save_something1` 多了一个参数 `fpath`，但是需要注意的是**在调用 `save_something1` 的时候，我们仍然只需要传入 `something`这个参数**，`fpath` 参数是在装饰器中通过让用户选择保存文件来获取到保存路径，如果不是有效的保存路径，就会打印错误，不调用保存函数。"
   ]
  },
  {
   "cell_type": "markdown",
   "id": "8caae251-d3af-4260-a816-6ffe9440cc56",
   "metadata": {},
   "source": [
    "通过使用装饰器实现，我们获得了以下好处：\n",
    "- `save_something`的实现更加简单，不需要考虑输入路径为空等`corner case`，这些情况已经在装饰器中统一处理\n",
    "- 可维护性更高，我们只需要在装饰器中修改错误处理函数，而不需要在每个`save_something`中逐个修改"
   ]
  },
  {
   "cell_type": "markdown",
   "id": "a30d879c-61f2-492d-ae36-618420c68d4e",
   "metadata": {},
   "source": [
    "### 可定制的装饰器"
   ]
  },
  {
   "cell_type": "markdown",
   "id": "1b2f8185-acb8-4a64-bc08-389dfd103f62",
   "metadata": {},
   "source": [
    "以上演示的装饰器，都只是固定的功能，只能接受一个函数作为输入参数。那么如何根据一些参数来配置装饰器的功能呢？比如说上述的`get_save_path_decorator`装饰器，它的文件过滤规则只能是 `txt` 文件，假设有另外的函数需要选择后缀名为 `json` 的文件路径呢？当然可以重新定义一个装饰器，但是新的装饰器和旧的装饰器代码大部分都雷同，所以肯定有更好的方法。\n",
    "\n",
    "此时，我们就需要定义一个**返回装饰器的函数**。先看代码："
   ]
  },
  {
   "cell_type": "code",
   "execution_count": 13,
   "id": "3974ad0d-c517-4f7d-a8d2-3b048c05463f",
   "metadata": {},
   "outputs": [],
   "source": [
    "def get_save_path_decorator_factory(file_type: str):\n",
    "    def decorator(f):\n",
    "        def _f(*args, **kwarg):\n",
    "            file_path, _ = QFileDialog.getSaveFileName(\n",
    "                self,\n",
    "                \"选择保存文件路径\",\n",
    "                \"\",\n",
    "                file_type\n",
    "            )\n",
    "            if file_path:\n",
    "                f(file_path, *args, **kwargs)\n",
    "            else:\n",
    "                print(\"user doesn't select a valid save path\")\n",
    "        return _f\n",
    "    return decorator"
   ]
  },
  {
   "cell_type": "markdown",
   "id": "bf8b001b-02fa-4509-ab3a-4c02a3dfa601",
   "metadata": {},
   "source": [
    "上述的`get_save_path_decorator_factory`就是一个**返回装饰器的函数**，返回的装饰器中文件类型是由传入的参数确定的，而不是固定的，那么如何它来装饰函数呢？"
   ]
  },
  {
   "cell_type": "code",
   "execution_count": 14,
   "id": "7cbc991c-f434-4710-9ed4-f8f2205fb982",
   "metadata": {},
   "outputs": [],
   "source": [
    "@get_save_path_decorator_factory(\"文本文件(*.txt)\")\n",
    "def save_something3(fpath: str, something):\n",
    "    print(f\"save {something} to {fpath}\")\n",
    "\n",
    "@get_save_path_decorator_factory(\"Json文件(*.json)\")\n",
    "def save_something4(fpath: str, something):\n",
    "    print(f\"save {something} to {fpath}\")      "
   ]
  },
  {
   "cell_type": "markdown",
   "id": "7e2e923e-340d-4cac-b265-15060086da43",
   "metadata": {},
   "source": [
    "注意调用的时候，我们使用 `get_save_path_decorator_factory(\"文本文件(*.txt)\")` 返回一个装饰器，然后用这个装饰器再装饰 `save_something3` 函数，如果我们把这两个函数的签名打印出来："
   ]
  },
  {
   "cell_type": "code",
   "execution_count": 17,
   "id": "4942cac1-7e02-402f-bbda-e1ae089a0bdc",
   "metadata": {},
   "outputs": [
    {
     "data": {
      "text/plain": [
       "(<function __main__.get_save_path_decorator_factory.<locals>.decorator(f)>,\n",
       " <function __main__.get_save_path_decorator_factory.<locals>.decorator.<locals>._f(*args, **kwarg)>)"
      ]
     },
     "execution_count": 17,
     "metadata": {},
     "output_type": "execute_result"
    }
   ],
   "source": [
    "get_save_path_decorator_factory(\"文本文件(*.txt)\"), save_something3"
   ]
  },
  {
   "cell_type": "markdown",
   "id": "1de12d71-a13b-411c-a2a6-a9943ea76a9e",
   "metadata": {},
   "source": [
    "可以更清楚地理解这个过程，`get_save_path_decorator_factory(\"文本文件(*.txt)\")` 返回的就是在`get_save_path_decorator_factory`中定义的`decorator`这个函数；`save_something3`就是在`get_save_path_decorator_factory`中的`decorator`中的`_f`函数。"
   ]
  },
  {
   "cell_type": "markdown",
   "id": "555b2bcd-c327-4084-9874-1a5a7552d91c",
   "metadata": {},
   "source": [
    "## 总结\n",
    "\n",
    "本文介绍了python的装饰器的概念，并且介绍了一些高级用法，巧用装饰器，可以大大减少代码的冗余，提高维护性。"
   ]
  }
 ],
 "metadata": {
  "kernelspec": {
   "display_name": "Python 3 (ipykernel)",
   "language": "python",
   "name": "python3"
  },
  "language_info": {
   "codemirror_mode": {
    "name": "ipython",
    "version": 3
   },
   "file_extension": ".py",
   "mimetype": "text/x-python",
   "name": "python",
   "nbconvert_exporter": "python",
   "pygments_lexer": "ipython3",
   "version": "3.12.8"
  }
 },
 "nbformat": 4,
 "nbformat_minor": 5
}
